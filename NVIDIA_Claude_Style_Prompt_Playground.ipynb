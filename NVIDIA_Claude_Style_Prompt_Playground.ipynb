{
  "nbformat": 4,
  "nbformat_minor": 0,
  "metadata": {
    "colab": {
      "provenance": [],
      "authorship_tag": "ABX9TyO3rWxn8rY6bqb+gIu21osu",
      "include_colab_link": true
    },
    "kernelspec": {
      "name": "python3",
      "display_name": "Python 3"
    },
    "language_info": {
      "name": "python"
    }
  },
  "cells": [
    {
      "cell_type": "markdown",
      "metadata": {
        "id": "view-in-github",
        "colab_type": "text"
      },
      "source": [
        "<a href=\"https://colab.research.google.com/github/tennille-bernard/NVIDIA_Sample_Projects/blob/main/NVIDIA_Claude_Style_Prompt_Playground.ipynb\" target=\"_parent\"><img src=\"https://colab.research.google.com/assets/colab-badge.svg\" alt=\"Open In Colab\"/></a>"
      ]
    },
    {
      "cell_type": "code",
      "execution_count": null,
      "metadata": {
        "id": "M7Rt69ZiONBu"
      },
      "outputs": [],
      "source": [
        "# Creating a Claude-style Prompt Playground using HuggingFace Transformers + Gradio\n",
        "\n",
        "#Install and import packages\n",
        "\n",
        "\n",
        "!pip install gradio\n",
        "\n",
        "import gradio as gr\n",
        "from transformers import pipeline, set_seed"
      ]
    },
    {
      "cell_type": "code",
      "source": [
        "# Loading a text generation pipeline\n",
        "generator = pipeline('text-generation', model='distilgpt2')\n",
        "set_seed(42)"
      ],
      "metadata": {
        "id": "bjNcUJ54ZuWn"
      },
      "execution_count": null,
      "outputs": []
    },
    {
      "cell_type": "code",
      "source": [
        "def generate_completion(prompt):\n",
        "    response = generator(prompt, max_length=100, num_return_sequences=1)\n",
        "    return response[0]['generated_text']"
      ],
      "metadata": {
        "id": "irC-ZJWdZ1ez"
      },
      "execution_count": null,
      "outputs": []
    },
    {
      "cell_type": "code",
      "source": [
        "# Launching the Gradio UI\n",
        "demo = gr.Interface(\n",
        "    fn=generate_completion,\n",
        "    inputs=gr.Textbox(lines=4, placeholder=\"Ask a question like 'How do I optimize inference with a GPU?'\"),\n",
        "    outputs=\"text\",\n",
        "    title=\"Claude-Style Prompt Playground\",\n",
        "    description=\"A lightweight LLM demo for prompt experimentation, built with Hugging Face and Gradio. Adaptable for developer-focused NVIDIA use cases.\"\n",
        ")\n",
        "\n",
        "demo.launch(debug = True)"
      ],
      "metadata": {
        "id": "OmWshCwQZ9a8"
      },
      "execution_count": null,
      "outputs": []
    }
  ]
}